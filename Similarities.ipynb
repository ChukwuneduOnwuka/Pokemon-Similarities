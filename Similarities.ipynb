{
 "cells": [
  {
   "cell_type": "code",
   "execution_count": 2,
   "metadata": {},
   "outputs": [
    {
     "name": "stdout",
     "output_type": "stream",
     "text": [
      "Top 10 Most Similar Pokémon to Charizard:\n",
      "           Name  HP  Attack  Defense  Sp. Atk  Sp. Def  Speed\n",
      "171  Typhlosion  78      84       78      109       85    100\n",
      "157      Zapdos  90      90       85      125       90    100\n",
      "723     Delphox  75      69       72      114      100    104\n",
      "60      Golduck  80      82       78       95       80     85\n",
      "262      Raikou  90      85       75      115      100    115\n",
      "274    Sceptile  70      85       65      105       85    120\n",
      "192        Xatu  65      75       70       95       70     95\n",
      "134  Electabuzz  65      83       57       95       85    105\n",
      "247    Houndoom  75      90       50      110       80     95\n",
      "130     Starmie  60      75       85      100       85    115\n"
     ]
    }
   ],
   "source": [
    "import pandas as pd\n",
    "from sklearn.preprocessing import MinMaxScaler\n",
    "from sklearn.neighbors import NearestNeighbors\n",
    "\n",
    "# Load the dataset\n",
    "pokemon_data = pd.read_csv(\"Pokemon.csv\")\n",
    "\n",
    "# Extract the features used for similarity comparison\n",
    "features = ['HP', 'Attack', 'Defense', 'Sp. Atk', 'Sp. Def', 'Speed']\n",
    "\n",
    "# Normalize the features\n",
    "scaler = MinMaxScaler()\n",
    "pokemon_data_scaled = scaler.fit_transform(pokemon_data[features])\n",
    "\n",
    "# Fit the nearest neighbors model\n",
    "knn_model = NearestNeighbors(n_neighbors=11, algorithm='auto').fit(pokemon_data_scaled)\n",
    "\n",
    "# Charizard's index in the dataset\n",
    "charizard_index = pokemon_data[pokemon_data['Name'] == 'Charizard'].index[0]\n",
    "\n",
    "# Find the indices of the 10 most similar Pokémon to Charizard\n",
    "distances, indices = knn_model.kneighbors([pokemon_data_scaled[charizard_index]])\n",
    "\n",
    "# Display the top 10 most similar Pokémon to Charizard along with their stats\n",
    "similar_pokemon = pokemon_data.iloc[indices[0][1:]]  # Exclude Charizard itself\n",
    "similar_pokemon_stats = similar_pokemon[['Name', 'HP', 'Attack', 'Defense', 'Sp. Atk', 'Sp. Def', 'Speed']]\n",
    "\n",
    "print(\"Top 10 Most Similar Pokémon to Charizard:\")\n",
    "print(similar_pokemon_stats)\n"
   ]
  }
 ],
 "metadata": {
  "kernelspec": {
   "display_name": "Python 3",
   "language": "python",
   "name": "python3"
  },
  "language_info": {
   "codemirror_mode": {
    "name": "ipython",
    "version": 3
   },
   "file_extension": ".py",
   "mimetype": "text/x-python",
   "name": "python",
   "nbconvert_exporter": "python",
   "pygments_lexer": "ipython3",
   "version": "3.11.3"
  }
 },
 "nbformat": 4,
 "nbformat_minor": 2
}
